{
 "cells": [
  {
   "cell_type": "markdown",
   "metadata": {
    "id": "qjGMYA3pJ3zb"
   },
   "source": [
    "# Iterating & Improving on Questions\n",
    "\n",
    "**Mini-Unit Learning Objectives**  \n",
    "By the end of this mini-unit, you will be able to...\n",
    "1. ...describe the FINER framework for evaluating the _quality_ of research questions.\n",
    "2. ...practice improving a research question using the FINER framework.\n",
    "\n",
    "\n",
    "## Increasing the Impact of Research Questions\n",
    "\n",
    "You should now have some sense of how the 4Ws map onto research abstracts and the questions at their heart.\n",
    "\n",
    "However, knowing the components of a research question isn't everything we need to know. We might also want to distinguish between good and bad research questions, both to select which papers to read in detail, and to improve our own questions before we begin the study.\n",
    "\n",
    "Let's start by checking in with Konrad and asking ourselves what fundamental properties _good_ research questions may have in common."
   ]
  },
  {
   "cell_type": "code",
   "execution_count": 1,
   "metadata": {
    "cellView": "form",
    "colab": {
     "base_uri": "https://localhost:8080/",
     "height": 741
    },
    "id": "ts1fqe0XJ3zc",
    "outputId": "22327535-dafa-4e2d-813b-b8fa2c14ca81",
    "tags": [
     "hide-input"
    ]
   },
   "outputs": [
    {
     "data": {
      "text/html": [
       "\n",
       "        <iframe\n",
       "            width=\"960\"\n",
       "            height=\"540\"\n",
       "            src=\"https://www.youtube.com/embed/Cc036CkS70I\"\n",
       "            frameborder=\"0\"\n",
       "            allowfullscreen\n",
       "            \n",
       "        ></iframe>\n",
       "        "
      ],
      "text/plain": [
       "<IPython.lib.display.IFrame at 0x237fc068100>"
      ]
     },
     "execution_count": 1,
     "metadata": {},
     "output_type": "execute_result"
    }
   ],
   "source": [
    "# @title\n",
    "from IPython.display import IFrame\n",
    "IFrame(src=f\"https://www.youtube.com/embed/Cc036CkS70I\", width=960, height=540)"
   ]
  },
  {
   "cell_type": "markdown",
   "metadata": {
    "id": "gjbf5tUHMpw8"
   },
   "source": [
    "## Revising a Research Question with Feedback\n",
    "\n",
    "The following activity lets you practice writing a research question, and then getting feedback on a research question in the FINER framework to improve your question.\n",
    "\n",
    "```{note}\n",
    "You will need to supply an email to receive a OTP (one-time password) for the activity to work. The email should arrive quickly, but check your spam folder just in case!\n",
    "```"
   ]
  },
  {
   "cell_type": "code",
   "execution_count": 2,
   "metadata": {
    "cellView": "form",
    "colab": {
     "base_uri": "https://localhost:8080/",
     "height": 741
    },
    "id": "M4_2zI1utOzm",
    "outputId": "27953d58-eb2c-4660-cf98-96d850ce6617",
    "scrolled": false,
    "tags": [
     "hide-input"
    ]
   },
   "outputs": [
    {
     "data": {
      "text/html": [
       "\n",
       "        <iframe\n",
       "            width=\"1280\"\n",
       "            height=\"700\"\n",
       "            src=\"https://nextjs-chat-tau-orpin.vercel.app/\"\n",
       "            frameborder=\"0\"\n",
       "            allowfullscreen\n",
       "            \n",
       "        ></iframe>\n",
       "        "
      ],
      "text/plain": [
       "<IPython.lib.display.IFrame at 0x237fc069c90>"
      ]
     },
     "execution_count": 2,
     "metadata": {},
     "output_type": "execute_result"
    }
   ],
   "source": [
    "# @title\n",
    "from IPython.display import IFrame\n",
    "IFrame(src=f\"https://nextjs-chat-tau-orpin.vercel.app/\", width=1280, height=700)"
   ]
  }
 ],
 "metadata": {
  "celltoolbar": "Tags",
  "colab": {
   "provenance": []
  },
  "kernelspec": {
   "display_name": "Python 3 (ipykernel)",
   "language": "python",
   "name": "python3"
  },
  "language_info": {
   "codemirror_mode": {
    "name": "ipython",
    "version": 3
   },
   "file_extension": ".py",
   "mimetype": "text/x-python",
   "name": "python",
   "nbconvert_exporter": "python",
   "pygments_lexer": "ipython3",
   "version": "3.10.10"
  }
 },
 "nbformat": 4,
 "nbformat_minor": 1
}