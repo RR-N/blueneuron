{
 "cells": [
  {
   "cell_type": "markdown",
   "metadata": {},
   "source": [
    "# Identifying the 4Ws of a Study\n",
    "\n",
    "**Mini-Unit Learning Objectives**  \n",
    "By the end of this mini-unit, you will be able to...\n",
    "1. ...explain the importance of the 4Ws (Who/What/Why/How) as a framework for research questions.\n",
    "2. ...identify the 4Ws in an abstract.\n",
    "3. ...rewrite a research question to clearly specify the 4Ws."
   ]
  },
  {
   "cell_type": "markdown",
   "metadata": {
    "id": "vkn9pvdCpgDx"
   },
   "source": [
    "## What even is a Research Question?\n",
    "\n",
    "Questions are the fundamental drivers of research. But not all questions are effective research questions!\n",
    "\n",
    "- Why is the sky blue?\n",
    "- Is daily aerobic exercise better than stretching for Parkinson's disease?\n",
    "- What did I have for breakfast yesterday?\n",
    "\n",
    "These are all questions; some of them may even be reasonable research questions. What distinguishes a question that will function as a starting point for a research study?\n",
    "\n",
    "In this mini-unit, we'll learn what makes a good research question.\n",
    "\n",
    "## The Structure of Scientific Knowledge\n",
    "\n",
    "Most of the theories and models that we learn in basic science classes are built over time from multiple studies.\n",
    "\n",
    "Each individual study seeks to answer a specific research question -- you can think of each study as a single brick. In order to build something useful, we need multiple studies that can connect with each other and be combined into a greater whole.\n",
    "\n",
    "* 1 Theory = multiple research studies.\n",
    "* 1 Study = 1 research question.\n",
    "\n",
    "But how do you connect multiple studies together? After all, you can't just put a random collection of studies together to build a theory.\n",
    "\n",
    "It turns out that studies share key properties can help us connect them!\n",
    "\n",
    "Here, we will learn the **Who**/**What**/**Why**/**How** framework (or the 4 Ws) as away to identify the connections among different studies."
   ]
  },
  {
   "cell_type": "code",
   "execution_count": 1,
   "metadata": {
    "cellView": "form",
    "colab": {
     "base_uri": "https://localhost:8080/",
     "height": 741
    },
    "id": "jvDbQGPkJ3za",
    "outputId": "541eb0ba-b99a-4a27-d69e-a8c39cf6d368",
    "scrolled": false,
    "tags": [
     "hide-input"
    ]
   },
   "outputs": [
    {
     "data": {
      "text/html": [
       "\n",
       "        <iframe\n",
       "            width=\"960\"\n",
       "            height=\"540\"\n",
       "            src=\"https://www.youtube.com/embed/P96ijZqJNvk\"\n",
       "            frameborder=\"0\"\n",
       "            allowfullscreen\n",
       "            \n",
       "        ></iframe>\n",
       "        "
      ],
      "text/plain": [
       "<IPython.lib.display.IFrame at 0x1e36f4b7460>"
      ]
     },
     "execution_count": 1,
     "metadata": {},
     "output_type": "execute_result"
    }
   ],
   "source": [
    "# @title\n",
    "from IPython.display import IFrame\n",
    "IFrame(src=f\"https://www.youtube.com/embed/P96ijZqJNvk\", width=960, height=540)"
   ]
  },
  {
   "cell_type": "code",
   "execution_count": 2,
   "metadata": {
    "scrolled": false,
    "tags": [
     "hide-input"
    ]
   },
   "outputs": [
    {
     "data": {
      "text/html": [
       "\n",
       "        <iframe\n",
       "            width=\"990\"\n",
       "            height=\"400\"\n",
       "            src=\"https://jackliddy.github.io/4W-mouse-reveal-v2.html\"\n",
       "            frameborder=\"0\"\n",
       "            allowfullscreen\n",
       "            \n",
       "        ></iframe>\n",
       "        "
      ],
      "text/plain": [
       "<IPython.lib.display.IFrame at 0x1e36f4b4d60>"
      ]
     },
     "execution_count": 2,
     "metadata": {},
     "output_type": "execute_result"
    }
   ],
   "source": [
    "# @title\n",
    "from IPython.display import IFrame\n",
    "IFrame(src=f\"https://jackliddy.github.io/4W-mouse-reveal-v2.html\", width=990, height=400)"
   ]
  },
  {
   "cell_type": "markdown",
   "metadata": {},
   "source": [
    "## Reading an Abstract\n",
    "\n",
    "Now that we have some idea about the elements of a research question, let's take a closer look at how to identify them.\n",
    "\n",
    "We are going to work with this example abstract:\n",
    "\n",
    "> Perceptual events derive their significance to an animal from their meaning about the world, that is from the information they carry about their causes. The brain should thus be able to efficiently infer the causes underlying our sensory events. Here we use multisensory cue combination to study causal inference in perception. We formulate an ideal-observer model that infers whether two sensory cues originate from the same location and that also estimates their location(s). This model accurately predicts the nonlinear integration of cues by human subjects in two auditory-visual localization tasks. The results show that indeed humans can efficiently infer the causal structure as well as the location of causes. By combining insights from the study of causal inference with the ideal-observer approach to sensory cue combination, we show that the capacity to infer causal structure is not limited to conscious, high-level cognition; it is also performed continually and effortlessly in perception.\n",
    "\n",
    "**Take some time to read the abstract and try to identify each of the 4Ws (Who/What/Why/How) before proceeding to the next section.**"
   ]
  }
 ],
 "metadata": {
  "celltoolbar": "Tags",
  "colab": {
   "provenance": []
  },
  "kernelspec": {
   "display_name": "Python 3 (ipykernel)",
   "language": "python",
   "name": "python3"
  },
  "language_info": {
   "codemirror_mode": {
    "name": "ipython",
    "version": 3
   },
   "file_extension": ".py",
   "mimetype": "text/x-python",
   "name": "python",
   "nbconvert_exporter": "python",
   "pygments_lexer": "ipython3",
   "version": "3.10.10"
  }
 },
 "nbformat": 4,
 "nbformat_minor": 1
}