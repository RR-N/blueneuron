{
 "cells": [
  {
   "cell_type": "markdown",
   "metadata": {
    "id": "2u83dT73J3zb"
   },
   "source": [
    "# Writing a Research Abstract\n",
    "\n",
    "**Mini-Unit Learning Objectives**  \n",
    "By the end of this mini-unit, you will be able to...\n",
    "1. ...explain the hourglass structure of a typical research abstract.\n",
    "2. ...compose the (4W) pieces of a research question into the structure of an abstract.\n",
    "\n",
    "## Writing a Research Abstract\n",
    "\n",
    "We mentioned previously that a research abstract summarizes a study. However, it actually fulfill several additional functions at the same time -- a good abstract...\n",
    "\n",
    "* ...summarizes the research study.\n",
    "* ...connects the research study to related past work and potential future questions.\n",
    "* ...advertises the study to an appropriate target audience.\n",
    "\n",
    "This involves moving beyond the 4Ws of a research question and into the broader topic of what makes an effective abstract.\n",
    "\n",
    "Let's see what Konrad has to say on the matter."
   ]
  },
  {
   "cell_type": "code",
   "execution_count": 1,
   "metadata": {
    "cellView": "form",
    "colab": {
     "base_uri": "https://localhost:8080/",
     "height": 741
    },
    "id": "ZCv0A5RCJ3zb",
    "outputId": "372c1ec3-5f36-4bb6-bb48-951b495605de",
    "tags": [
     "hide-input"
    ]
   },
   "outputs": [
    {
     "data": {
      "text/html": [
       "\n",
       "        <iframe\n",
       "            width=\"1280\"\n",
       "            height=\"720\"\n",
       "            src=\"https://www.youtube.com/embed/YgMNn8NcGTs\"\n",
       "            frameborder=\"0\"\n",
       "            allowfullscreen\n",
       "            \n",
       "        ></iframe>\n",
       "        "
      ],
      "text/plain": [
       "<IPython.lib.display.IFrame at 0x1ea75666b30>"
      ]
     },
     "execution_count": 1,
     "metadata": {},
     "output_type": "execute_result"
    }
   ],
   "source": [
    "# @title\n",
    "from IPython.display import IFrame\n",
    "IFrame(src=f\"https://www.youtube.com/embed/YgMNn8NcGTs\", width=960, height=540)"
   ]
  },
  {
   "cell_type": "markdown",
   "metadata": {
    "id": "zRlVpeYAR2Q4"
   },
   "source": [
    "## Ordering Ideas in a Research Abstract\n",
    "\n",
    "Now that we have a sense of how the elements of research questions will fit into abstracts, let's give this a shot in the activity below!\n",
    "\n",
    "```{warning}\n",
    "The activity may not function well in a notebook; it is recommended to interact with it directly at https://jackliddy.github.io/abstract-drag-and-drop-V2.html\n",
    "```\n"
   ]
  },
  {
   "cell_type": "code",
   "execution_count": 1,
   "metadata": {
    "cellView": "form",
    "colab": {
     "base_uri": "https://localhost:8080/",
     "height": 721
    },
    "id": "fNR0bdScsZFW",
    "outputId": "c1654ab0-6c6d-4857-c6e4-185b8db1e4ba",
    "scrolled": false,
    "tags": [
     "hide-input"
    ]
   },
   "outputs": [
    {
     "data": {
      "text/html": [
       "\n",
       "        <iframe\n",
       "            width=\"1200\"\n",
       "            height=\"700\"\n",
       "            src=\"https://jackliddy.github.io/abstract-drag-and-drop-V2.html\"\n",
       "            frameborder=\"0\"\n",
       "            allowfullscreen\n",
       "            \n",
       "        ></iframe>\n",
       "        "
      ],
      "text/plain": [
       "<IPython.lib.display.IFrame at 0x2463a6573a0>"
      ]
     },
     "execution_count": 1,
     "metadata": {},
     "output_type": "execute_result"
    }
   ],
   "source": [
    "from IPython.display import IFrame\n",
    "IFrame(src=f\"https://jackliddy.github.io/abstract-drag-and-drop-V2.html\", width=1200, height=700)"
   ]
  }
 ],
 "metadata": {
  "celltoolbar": "Tags",
  "colab": {
   "provenance": []
  },
  "kernelspec": {
   "display_name": "Python 3 (ipykernel)",
   "language": "python",
   "name": "python3"
  },
  "language_info": {
   "codemirror_mode": {
    "name": "ipython",
    "version": 3
   },
   "file_extension": ".py",
   "mimetype": "text/x-python",
   "name": "python",
   "nbconvert_exporter": "python",
   "pygments_lexer": "ipython3",
   "version": "3.10.10"
  }
 },
 "nbformat": 4,
 "nbformat_minor": 1
}
