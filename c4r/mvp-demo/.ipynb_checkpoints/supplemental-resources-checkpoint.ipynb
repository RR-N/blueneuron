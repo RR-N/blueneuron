{
 "cells": [
  {
   "cell_type": "markdown",
   "metadata": {
    "id": "HQC5ZLxIdS2g"
   },
   "source": [
    "## Resources for Further Learning\n",
    "\n",
    "Congratulations, you've reached the end of the unit! Below, you'll find supplementary materials you're welcome to delve into should you be interested in learning more about research question development."
   ]
  },
  {
   "cell_type": "code",
   "execution_count": 2,
   "metadata": {
    "cellView": "form",
    "colab": {
     "base_uri": "https://localhost:8080/",
     "height": 971
    },
    "id": "gAzQSXZldPvu",
    "outputId": "77872667-3c33-4380-b818-15c8139b6114",
    "tags": [
     "hide-input"
    ]
   },
   "outputs": [],
   "source": [
    "# @title\n",
    "from IPython.display import IFrame\n",
    "IFrame(src=f\"https://blueneuron.net/engage-elements/resources/index.html\", width=980, height=950)"
   ]
  }
 ],
 "metadata": {
  "celltoolbar": "Tags",
  "colab": {
   "provenance": []
  },
  "kernelspec": {
   "display_name": "Python 3 (ipykernel)",
   "language": "python",
   "name": "python3"
  },
  "language_info": {
   "codemirror_mode": {
    "name": "ipython",
    "version": 3
   },
   "file_extension": ".py",
   "mimetype": "text/x-python",
   "name": "python",
   "nbconvert_exporter": "python",
   "pygments_lexer": "ipython3",
   "version": "3.10.10"
  }
 },
 "nbformat": 4,
 "nbformat_minor": 1
}
